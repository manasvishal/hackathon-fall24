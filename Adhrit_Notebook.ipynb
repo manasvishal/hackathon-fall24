{
 "cells": [
  {
   "attachments": {},
   "cell_type": "markdown",
   "metadata": {},
   "source": [
    "# Installing Libraries"
   ]
  },
  {
   "cell_type": "code",
   "execution_count": null,
   "metadata": {},
   "outputs": [],
   "source": [
    "!pip install 'accelerate>=0.26.0'\n",
    "!pip install chromadb\n",
    "!pip install langchain_chroma langchain_community\n",
    "!pip install unstructured\n",
    "!pip install --upgrade --quiet PyMuPDF langchain_community langchain_chroma\n",
    "!pip install sentence_transformers"
   ]
  },
  {
   "attachments": {},
   "cell_type": "markdown",
   "metadata": {},
   "source": [
    "# Importing Libraries"
   ]
  },
  {
   "cell_type": "code",
   "execution_count": 1,
   "metadata": {},
   "outputs": [],
   "source": [
    "import numpy as np\n",
    "import matplotlib.pyplot as plt\n",
    "from glob import glob\n",
    "import os\n",
    "from tqdm import tqdm\n",
    "\n",
    "import chromadb\n",
    "from chromadb.config import Settings\n",
    "from langchain_chroma import Chroma\n",
    "#from langchain_unstructured import UnstructuredLoader\n",
    "\n",
    "from langchain_community.document_loaders import PyMuPDFLoader,PyPDFLoader,PyPDFDirectoryLoader\n",
    "from langchain.document_loaders import UnstructuredExcelLoader\n",
    "from langchain.document_loaders import TextLoader\n",
    "from langchain.document_loaders import UnstructuredWordDocumentLoader\n",
    "\n",
    "# from langchain_community.document_loaders import ExcelLoader\n",
    "from langchain_community.embeddings.sentence_transformer import (\n",
    "    SentenceTransformerEmbeddings,\n",
    ")\n",
    "from langchain_text_splitters import RecursiveCharacterTextSplitter\n",
    "\n",
    "import chromadb\n",
    "from chromadb.config import Settings\n",
    "from openai import AzureOpenAI"
   ]
  },
  {
   "attachments": {},
   "cell_type": "markdown",
   "metadata": {},
   "source": [
    "# Categorizing types of files"
   ]
  },
  {
   "cell_type": "code",
   "execution_count": 3,
   "metadata": {},
   "outputs": [
    {
     "data": {
      "text/plain": [
       "0"
      ]
     },
     "execution_count": 3,
     "metadata": {},
     "output_type": "execute_result"
    }
   ],
   "source": [
    "path = \"/home/aravichandran_umassd_edu/fuchs_hackathon/hackathon-fall24/startup_packet/synthetic_files/reports_2024-09-26_00-39-17\"\n",
    "txt_files = glob(path+\"/*.txt\")\n",
    "xlsx_files = glob(path+\"/*.xlsx\")\n",
    "docx_files = glob(path+\"/*.docx\")\n",
    "pdf_files = glob(path+\"/*.pdf\")\n",
    "\n",
    "files = glob(path+\"/*\")\n",
    "file_ext = []\n",
    "for temp in files:\n",
    "    ext = temp.split(\".\")[-1]\n",
    "    file_ext.append(ext)\n",
    "np.unique(file_ext)\n",
    "\n",
    "os.system(f\"mkdir -p raw_data/pdf/\")\n",
    "os.system(f\"mkdir -p raw_data/txt/\")\n",
    "os.system(f\"mkdir -p raw_data/xlsx/\")\n",
    "os.system(f\"mkdir -p raw_data/docx/\")\n",
    "\n",
    "for file in tqdm(pdf_files, desc=\"moving pdfs\"):\n",
    "    os.system(f\"cp {file} raw_data/pdf/\")\n",
    "\n",
    "for file in tqdm(txt_files, desc=\"moving txt\"):\n",
    "    os.system(f\"cp {file} raw_data/txt/\")\n",
    "\n",
    "for file in tqdm(docx_files, desc=\"moving docx\"):\n",
    "    os.system(f\"cp {file} raw_data/docx/\")\n",
    "\n",
    "for file in tqdm(xlsx_files, desc=\"moving xls\"):\n",
    "    os.system(f\"cp {file} raw_data/xlsx/\")"
   ]
  },
  {
   "attachments": {},
   "cell_type": "markdown",
   "metadata": {},
   "source": [
    "# Parsing Data into Training Vectors"
   ]
  },
  {
   "cell_type": "code",
   "execution_count": 2,
   "metadata": {},
   "outputs": [
    {
     "name": "stderr",
     "output_type": "stream",
     "text": [
      "/tmp/ipykernel_1101502/415756860.py:5: LangChainDeprecationWarning: The class `HuggingFaceEmbeddings` was deprecated in LangChain 0.2.2 and will be removed in 1.0. An updated version of the class exists in the :class:`~langchain-huggingface package and should be used instead. To use it run `pip install -U :class:`~langchain-huggingface` and import as `from :class:`~langchain_huggingface import HuggingFaceEmbeddings``.\n",
      "  embedding_function = SentenceTransformerEmbeddings(model_name=\"all-MiniLM-L6-v2\")\n",
      "/home/aravichandran_umassd_edu/miniconda3/envs/fuchs/lib/python3.12/site-packages/sentence_transformers/cross_encoder/CrossEncoder.py:13: TqdmWarning: IProgress not found. Please update jupyter and ipywidgets. See https://ipywidgets.readthedocs.io/en/stable/user_install.html\n",
      "  from tqdm.autonotebook import tqdm, trange\n",
      "/home/aravichandran_umassd_edu/miniconda3/envs/fuchs/lib/python3.12/site-packages/transformers/tokenization_utils_base.py:1617: FutureWarning: `clean_up_tokenization_spaces` was not set. It will be set to `True` by default. This behavior will be deprecated in transformers v4.45, and will be then set to `False` by default. For more details check this issue: https://github.com/huggingface/transformers/issues/31884\n",
      "  warnings.warn(\n"
     ]
    }
   ],
   "source": [
    "db_path = \"parsed_data/db\"\n",
    "os.system(f\"mkdir -p {db_path}\")\n",
    "chroma_client = chromadb.PersistentClient(path=db_path)\n",
    "#chroma_client.delete_collection(name=\"test1_c\")\n",
    "embedding_function = SentenceTransformerEmbeddings(model_name=\"all-MiniLM-L6-v2\")\n",
    "\n",
    "chunked_documents = []"
   ]
  },
  {
   "cell_type": "code",
   "execution_count": 5,
   "metadata": {},
   "outputs": [
    {
     "name": "stderr",
     "output_type": "stream",
     "text": [
      "XLSX Files: 100%|██████████| 1255/1255 [00:36<00:00, 34.21it/s]\n",
      "TXT Files: 100%|██████████| 245/245 [00:00<00:00, 1130.80it/s]\n",
      "DOCX Files: 100%|██████████| 753/753 [01:26<00:00,  8.71it/s]\n"
     ]
    }
   ],
   "source": [
    "# Parsing PDF Folder\n",
    "folder_path = \"raw_data/pdf/\"\n",
    "loader = PyPDFDirectoryLoader(folder_path)\n",
    "document = loader.load()\n",
    "text_splitter = RecursiveCharacterTextSplitter(chunk_size=1000, chunk_overlap=200)\n",
    "chunked_documents_temp = text_splitter.split_documents(document)\n",
    "\n",
    "chunked_documents.extend(chunked_documents_temp)\n",
    "\n",
    "\n",
    "# Parsing XLSX Folder\n",
    "folder_path = \"raw_data/xlsx/\"\n",
    "xlsx_files = glob(folder_path+\"/*\")\n",
    "\n",
    "for file in tqdm(xlsx_files, desc=\"XLSX Files\"):\n",
    "    loader = UnstructuredExcelLoader(file)\n",
    "    document = loader.load()\n",
    "    text_splitter = RecursiveCharacterTextSplitter(chunk_size=1000, chunk_overlap=200)\n",
    "    chunked_documents_temp = text_splitter.split_documents(document)\n",
    "    chunked_documents.extend(chunked_documents_temp)\n",
    "\n",
    "# Parsing TXT Folder\n",
    "folder_path = \"raw_data/txt/\"\n",
    "txt_files = glob(folder_path+\"/*\")\n",
    "\n",
    "for file in tqdm(txt_files, desc=\"TXT Files\"):\n",
    "    loader = TextLoader(file)\n",
    "    document = loader.load()\n",
    "    text_splitter = RecursiveCharacterTextSplitter(chunk_size=1000, chunk_overlap=200)\n",
    "    chunked_documents_temp = text_splitter.split_documents(document)\n",
    "    chunked_documents.extend(chunked_documents_temp)\n",
    "\n",
    "    \n",
    "# Parsing DOCX Folder\n",
    "folder_path = \"raw_data/docx/\"\n",
    "docx_files = glob(folder_path+\"/*\")\n",
    "\n",
    "for file in tqdm(docx_files, desc=\"DOCX Files\"):\n",
    "    loader = UnstructuredWordDocumentLoader(file)\n",
    "    document = loader.load()\n",
    "    text_splitter = RecursiveCharacterTextSplitter(chunk_size=1000, chunk_overlap=200)\n",
    "    chunked_documents_temp = text_splitter.split_documents(document)\n",
    "    chunked_documents.extend(chunked_documents_temp)"
   ]
  },
  {
   "attachments": {},
   "cell_type": "markdown",
   "metadata": {},
   "source": [
    "## Collating Data"
   ]
  },
  {
   "cell_type": "code",
   "execution_count": 7,
   "metadata": {},
   "outputs": [
    {
     "name": "stdout",
     "output_type": "stream",
     "text": [
      "Added 12396 chunks to chroma db\n"
     ]
    }
   ],
   "source": [
    "Chroma.from_documents(\n",
    "    documents=chunked_documents,\n",
    "    embedding=embedding_function,\n",
    "    collection_name='test1_c',\n",
    "    client=chroma_client,\n",
    ")\n",
    "print(f\"Added {len(chunked_documents)} chunks to chroma db\")"
   ]
  },
  {
   "attachments": {},
   "cell_type": "markdown",
   "metadata": {},
   "source": [
    "# Training Model"
   ]
  },
  {
   "cell_type": "code",
   "execution_count": 8,
   "metadata": {},
   "outputs": [
    {
     "ename": "ModuleNotFoundError",
     "evalue": "No module named 'openai'",
     "output_type": "error",
     "traceback": [
      "\u001b[0;31m---------------------------------------------------------------------------\u001b[0m",
      "\u001b[0;31mModuleNotFoundError\u001b[0m                       Traceback (most recent call last)",
      "Cell \u001b[0;32mIn[8], line 1\u001b[0m\n\u001b[0;32m----> 1\u001b[0m \u001b[39mfrom\u001b[39;00m \u001b[39mopenai\u001b[39;00m \u001b[39mimport\u001b[39;00m AzureOpenAI\n",
      "\u001b[0;31mModuleNotFoundError\u001b[0m: No module named 'openai'"
     ]
    }
   ],
   "source": []
  },
  {
   "cell_type": "code",
   "execution_count": null,
   "metadata": {},
   "outputs": [],
   "source": []
  }
 ],
 "metadata": {
  "kernelspec": {
   "display_name": "fuchs",
   "language": "python",
   "name": "python3"
  },
  "language_info": {
   "codemirror_mode": {
    "name": "ipython",
    "version": 3
   },
   "file_extension": ".py",
   "mimetype": "text/x-python",
   "name": "python",
   "nbconvert_exporter": "python",
   "pygments_lexer": "ipython3",
   "version": "3.12.5"
  },
  "orig_nbformat": 4
 },
 "nbformat": 4,
 "nbformat_minor": 2
}
